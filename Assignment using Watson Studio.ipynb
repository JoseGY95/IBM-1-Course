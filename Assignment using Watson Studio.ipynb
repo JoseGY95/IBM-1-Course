{
    "cells": [
        {
            "metadata": {
                "collapsed": true
            },
            "cell_type": "markdown",
            "source": "# My Jupyter Notebook on IBM Watson Studio"
        },
        {
            "metadata": {},
            "cell_type": "markdown",
            "source": "**Jos\u00e9 Mar\u00eda Guerrero Y\u00e1ng\u00fcez**\nBSc. Physics interested in Data Science and Aerospace Engineering"
        },
        {
            "metadata": {},
            "cell_type": "markdown",
            "source": "*I got interested in data science as I have witnessed the growth and value of this area. It is one of the fields where I can find a challenge and apply my knowledge as a Physicist in a practical way.*"
        },
        {
            "metadata": {},
            "cell_type": "markdown",
            "source": "### Now, I will enter in the next line a simple \"Hello World\" command"
        },
        {
            "metadata": {},
            "cell_type": "code",
            "source": "print(\"Hello World\")",
            "execution_count": 1,
            "outputs": [
                {
                    "output_type": "stream",
                    "text": "Hello World\n",
                    "name": "stdout"
                }
            ]
        },
        {
            "metadata": {},
            "cell_type": "markdown",
            "source": "- This is an element of a Bulleted list. After this I will add a simple table\n\n| List |  Type  |\n|------|--------|\n|A     |Bulleted|\n|B     |Numbered|\n\n- There are other kinds of lists and content you can add like\n1. Numbered lists\n2. Hyperlinks like [\"This link\"](https://www.youtube.com/watch?v=yci475Vwc10)\n3. Or even pictures like ![Wow Picture](https://media.istockphoto.com/id/915255348/es/vector/asombre-a.jpg?s=1024x1024&w=is&k=20&c=txrW8EUgqplUuf5DzpIHFpkofoA_BZDelHEgER4q8-M=)"
        },
        {
            "metadata": {},
            "cell_type": "code",
            "source": "",
            "execution_count": null,
            "outputs": []
        }
    ],
    "metadata": {
        "kernelspec": {
            "name": "python3",
            "display_name": "Python 3.10",
            "language": "python"
        },
        "language_info": {
            "name": "python",
            "version": "3.10.14",
            "mimetype": "text/x-python",
            "codemirror_mode": {
                "name": "ipython",
                "version": 3
            },
            "pygments_lexer": "ipython3",
            "nbconvert_exporter": "python",
            "file_extension": ".py"
        }
    },
    "nbformat": 4,
    "nbformat_minor": 1
}