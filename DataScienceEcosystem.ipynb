{
 "cells": [
  {
   "cell_type": "markdown",
   "id": "25147b7e-0017-4ccc-b175-0690c6972f20",
   "metadata": {},
   "source": [
    "# Data Science Tools and Ecosystem"
   ]
  },
  {
   "cell_type": "markdown",
   "id": "258cdb44-0c7a-46d7-8922-3ab84aca7b47",
   "metadata": {},
   "source": [
    "By **José María Guerrero Yángüez** for the course *Open Source Tools for Data Science* by IBM avaliable on Coursera.\n",
    "April 15th, 2024"
   ]
  },
  {
   "cell_type": "markdown",
   "id": "31a0a51c-eaf4-4ec8-b19d-ed9a06faabe9",
   "metadata": {},
   "source": [
    "In this Notebook, Data Science Tools and Ecosystem are summarized."
   ]
  },
  {
   "cell_type": "markdown",
   "id": "10beeaec-4347-4c8d-bd36-6766256dba52",
   "metadata": {},
   "source": [
    "**Objectives:**\n",
    "- List popular languages for Data Science\n",
    "- List common libraries used in Data Science\n",
    "- List a few IDE's widely used in Data Science\n",
    "- Showcase the use of Markdowns as well as some of their popular features\n",
    "- Show how Python code can be also integrated in the notebook\n",
    "## Author\n",
    "José María Guerrero Yángüez"
   ]
  },
  {
   "cell_type": "markdown",
   "id": "719d6f29-0763-47fa-96fa-f44f19fab496",
   "metadata": {},
   "source": [
    "Some of the popular languages that Data Scientists use are:\n",
    "1. Python\n",
    "2. R\n",
    "3. SQL\n",
    "4. C+\n",
    "5. Java"
   ]
  },
  {
   "cell_type": "markdown",
   "id": "b0112faf-a33e-4330-be21-3dbc0393b31e",
   "metadata": {},
   "source": [
    "Some of the commonly used libraries used by Data Scientists include:\n",
    "- Matplotlib\n",
    "- NumPy\n",
    "- Pandas\n",
    "- Tensor Flow\n",
    "- PyTorch"
   ]
  },
  {
   "cell_type": "markdown",
   "id": "f8df436b-8bff-4ac4-b73d-bc90d03d080c",
   "metadata": {},
   "source": [
    "| Data Science Tools |\n",
    "|--------------------|\n",
    "| Jupyter Notebooks | \n",
    "|RStudio | \n",
    "|Spyder |\n"
   ]
  },
  {
   "cell_type": "markdown",
   "id": "5a72b7e1-4c28-4d30-852d-f28b716c1763",
   "metadata": {},
   "source": [
    "### Below are a few examples of evaluating arithmetic expressions in Python"
   ]
  },
  {
   "cell_type": "code",
   "execution_count": 3,
   "id": "cf1ee013-8a33-44f7-94ac-771a36f8f920",
   "metadata": {},
   "outputs": [
    {
     "data": {
      "text/plain": [
       "17"
      ]
     },
     "execution_count": 3,
     "metadata": {},
     "output_type": "execute_result"
    }
   ],
   "source": [
    "(3*4)+5\n",
    "#This is a simple arithmetic expression to mutiply then add integers"
   ]
  },
  {
   "cell_type": "code",
   "execution_count": 5,
   "id": "21a25c6b-56a2-4423-a0b1-c7af68feaf30",
   "metadata": {},
   "outputs": [
    {
     "name": "stdout",
     "output_type": "stream",
     "text": [
      "3.3333333333333335\n"
     ]
    }
   ],
   "source": [
    "t = 200\n",
    "T = t/60\n",
    "print(T)\n",
    "#This will convert 200 minutes to hours by diving by 60"
   ]
  },
  {
   "cell_type": "markdown",
   "id": "cf924cce-f141-445e-9810-1ff4e2876eeb",
   "metadata": {},
   "source": []
  }
 ],
 "metadata": {
  "kernelspec": {
   "display_name": "Python 3 (ipykernel)",
   "language": "python",
   "name": "python3"
  },
  "language_info": {
   "codemirror_mode": {
    "name": "ipython",
    "version": 3
   },
   "file_extension": ".py",
   "mimetype": "text/x-python",
   "name": "python",
   "nbconvert_exporter": "python",
   "pygments_lexer": "ipython3",
   "version": "3.11.7"
  }
 },
 "nbformat": 4,
 "nbformat_minor": 5
}
